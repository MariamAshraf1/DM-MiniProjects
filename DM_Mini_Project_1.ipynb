{
  "nbformat": 4,
  "nbformat_minor": 0,
  "metadata": {
    "colab": {
      "name": "DM - Mini Project 1.ipynb",
      "provenance": [],
      "authorship_tag": "ABX9TyP4cZ6CWyRWVmTerW2hq1R6",
      "include_colab_link": true
    },
    "kernelspec": {
      "name": "python3",
      "display_name": "Python 3"
    }
  },
  "cells": [
    {
      "cell_type": "markdown",
      "metadata": {
        "id": "view-in-github",
        "colab_type": "text"
      },
      "source": [
        "<a href=\"https://colab.research.google.com/github/MariamAshraf1/DM-MiniProjects/blob/main/DM_Mini_Project_1.ipynb\" target=\"_parent\"><img src=\"https://colab.research.google.com/assets/colab-badge.svg\" alt=\"Open In Colab\"/></a>"
      ]
    },
    {
      "cell_type": "markdown",
      "metadata": {
        "id": "vf7M1GrXe9Z4"
      },
      "source": [
        "**Mini Project 1 Description**"
      ]
    },
    {
      "cell_type": "markdown",
      "metadata": {
        "id": "jFQw7SQXfbGu"
      },
      "source": [
        "There are two types of customer churn: voluntary churn ( which occurs when a customer makes the decision to switch to a different service provider) and involuntary churn (occurs due to unavoidable reasons such as relocation or death)\n",
        "\n"
      ]
    },
    {
      "cell_type": "markdown",
      "metadata": {
        "id": "MpAs7GaZh6Lq"
      },
      "source": [
        "**Description:**\n",
        "Apply and evaluate one of the classification algorithms you have applied in the labs for the telecom customer churn dataset provided. In addition to answering the following queries along with an appropriate visualization/plot"
      ]
    },
    {
      "cell_type": "markdown",
      "metadata": {
        "id": "ep7CxtrIi_NY"
      },
      "source": [
        "**Details about dataset columns**"
      ]
    },
    {
      "cell_type": "markdown",
      "metadata": {
        "id": "CUpRUg7VjUdh"
      },
      "source": [
        "data about columns will be added here"
      ]
    },
    {
      "cell_type": "markdown",
      "metadata": {
        "id": "lHZbKhEumxwu"
      },
      "source": [
        ""
      ]
    },
    {
      "cell_type": "code",
      "metadata": {
        "id": "iP5jcj5Yikcs"
      },
      "source": [
        "import pandas as pd\n",
        "import numpy as np\n",
        "import matplotlib.pyplot as plt\n",
        "import seaborn as sns\n",
        "\n",
        "%matplotlib inline\n",
        "plt.style.use(\"seaborn\")"
      ],
      "execution_count": null,
      "outputs": []
    },
    {
      "cell_type": "code",
      "metadata": {
        "id": "--RNyCGiisvw"
      },
      "source": [
        "# try:\n",
        "#     df = pd.read_csv('../data/census_income.csv')\n",
        "# except:\n",
        "#     df = pd.read_csv('https://raw.githubusercontent.com/GUC-DM/W2020/main/data/census_income.csv')    \n",
        "# df.head()"
      ],
      "execution_count": null,
      "outputs": []
    },
    {
      "cell_type": "code",
      "metadata": {
        "id": "EUSxHJNYmnTH"
      },
      "source": [
        "for col in df.select_dtypes(object).columns:\n",
        "    print(f\"{col}: {df[col].unique()}\\n\")"
      ],
      "execution_count": null,
      "outputs": []
    },
    {
      "cell_type": "markdown",
      "metadata": {
        "id": "Sg4Qw33BglYS"
      },
      "source": [
        "1. What are the most correlated attributes with customer churn?"
      ]
    },
    {
      "cell_type": "code",
      "metadata": {
        "id": "84_82S_DhtPM"
      },
      "source": [
        ""
      ],
      "execution_count": null,
      "outputs": []
    },
    {
      "cell_type": "markdown",
      "metadata": {
        "id": "XuCSH2d8huMk"
      },
      "source": [
        "2. Are senior citizens more likely to churn than non-senior citizens?"
      ]
    },
    {
      "cell_type": "code",
      "metadata": {
        "id": "z2PX1SAzhx58"
      },
      "source": [
        ""
      ],
      "execution_count": null,
      "outputs": []
    },
    {
      "cell_type": "markdown",
      "metadata": {
        "id": "DM0W8TR4hyqB"
      },
      "source": [
        "3. Which payment method has highest churn rate?"
      ]
    },
    {
      "cell_type": "code",
      "metadata": {
        "id": "A1ujQLGvh32t"
      },
      "source": [
        ""
      ],
      "execution_count": null,
      "outputs": []
    }
  ]
}